{
 "cells": [
  {
   "cell_type": "code",
   "execution_count": 3,
   "metadata": {},
   "outputs": [],
   "source": [
    "import seaborn as sns\n",
    "import matplotlib.pyplot as plt\n",
    "from imblearn.over_sampling import RandomOverSampler \n",
    "import numpy as np\n",
    "from sklearn.model_selection import train_test_split\n",
    "import os, cv2\n",
    "import tensorflow as tf\n",
    "from tensorflow.keras.models import Sequential\n",
    "from tensorflow.keras.layers import Conv2D, Flatten, Dense, MaxPool2D"
   ]
  },
  {
   "cell_type": "code",
   "execution_count": 4,
   "metadata": {},
   "outputs": [
    {
     "data": {
      "text/html": [
       "<div>\n",
       "<style scoped>\n",
       "    .dataframe tbody tr th:only-of-type {\n",
       "        vertical-align: middle;\n",
       "    }\n",
       "\n",
       "    .dataframe tbody tr th {\n",
       "        vertical-align: top;\n",
       "    }\n",
       "\n",
       "    .dataframe thead th {\n",
       "        text-align: right;\n",
       "    }\n",
       "</style>\n",
       "<table border=\"1\" class=\"dataframe\">\n",
       "  <thead>\n",
       "    <tr style=\"text-align: right;\">\n",
       "      <th></th>\n",
       "      <th>pixel0000</th>\n",
       "      <th>pixel0001</th>\n",
       "      <th>pixel0002</th>\n",
       "      <th>pixel0003</th>\n",
       "      <th>pixel0004</th>\n",
       "      <th>pixel0005</th>\n",
       "      <th>pixel0006</th>\n",
       "      <th>pixel0007</th>\n",
       "      <th>pixel0008</th>\n",
       "      <th>pixel0009</th>\n",
       "      <th>...</th>\n",
       "      <th>pixel2343</th>\n",
       "      <th>pixel2344</th>\n",
       "      <th>pixel2345</th>\n",
       "      <th>pixel2346</th>\n",
       "      <th>pixel2347</th>\n",
       "      <th>pixel2348</th>\n",
       "      <th>pixel2349</th>\n",
       "      <th>pixel2350</th>\n",
       "      <th>pixel2351</th>\n",
       "      <th>label</th>\n",
       "    </tr>\n",
       "  </thead>\n",
       "  <tbody>\n",
       "    <tr>\n",
       "      <th>0</th>\n",
       "      <td>192</td>\n",
       "      <td>153</td>\n",
       "      <td>193</td>\n",
       "      <td>195</td>\n",
       "      <td>155</td>\n",
       "      <td>192</td>\n",
       "      <td>197</td>\n",
       "      <td>154</td>\n",
       "      <td>185</td>\n",
       "      <td>202</td>\n",
       "      <td>...</td>\n",
       "      <td>173</td>\n",
       "      <td>124</td>\n",
       "      <td>138</td>\n",
       "      <td>183</td>\n",
       "      <td>147</td>\n",
       "      <td>166</td>\n",
       "      <td>185</td>\n",
       "      <td>154</td>\n",
       "      <td>177</td>\n",
       "      <td>2</td>\n",
       "    </tr>\n",
       "    <tr>\n",
       "      <th>1</th>\n",
       "      <td>25</td>\n",
       "      <td>14</td>\n",
       "      <td>30</td>\n",
       "      <td>68</td>\n",
       "      <td>48</td>\n",
       "      <td>75</td>\n",
       "      <td>123</td>\n",
       "      <td>93</td>\n",
       "      <td>126</td>\n",
       "      <td>158</td>\n",
       "      <td>...</td>\n",
       "      <td>60</td>\n",
       "      <td>39</td>\n",
       "      <td>55</td>\n",
       "      <td>25</td>\n",
       "      <td>14</td>\n",
       "      <td>28</td>\n",
       "      <td>25</td>\n",
       "      <td>14</td>\n",
       "      <td>27</td>\n",
       "      <td>2</td>\n",
       "    </tr>\n",
       "    <tr>\n",
       "      <th>2</th>\n",
       "      <td>192</td>\n",
       "      <td>138</td>\n",
       "      <td>153</td>\n",
       "      <td>200</td>\n",
       "      <td>145</td>\n",
       "      <td>163</td>\n",
       "      <td>201</td>\n",
       "      <td>142</td>\n",
       "      <td>160</td>\n",
       "      <td>206</td>\n",
       "      <td>...</td>\n",
       "      <td>167</td>\n",
       "      <td>129</td>\n",
       "      <td>143</td>\n",
       "      <td>159</td>\n",
       "      <td>124</td>\n",
       "      <td>142</td>\n",
       "      <td>136</td>\n",
       "      <td>104</td>\n",
       "      <td>117</td>\n",
       "      <td>2</td>\n",
       "    </tr>\n",
       "    <tr>\n",
       "      <th>3</th>\n",
       "      <td>38</td>\n",
       "      <td>19</td>\n",
       "      <td>30</td>\n",
       "      <td>95</td>\n",
       "      <td>59</td>\n",
       "      <td>72</td>\n",
       "      <td>143</td>\n",
       "      <td>103</td>\n",
       "      <td>119</td>\n",
       "      <td>171</td>\n",
       "      <td>...</td>\n",
       "      <td>44</td>\n",
       "      <td>26</td>\n",
       "      <td>36</td>\n",
       "      <td>25</td>\n",
       "      <td>12</td>\n",
       "      <td>17</td>\n",
       "      <td>25</td>\n",
       "      <td>12</td>\n",
       "      <td>15</td>\n",
       "      <td>2</td>\n",
       "    </tr>\n",
       "    <tr>\n",
       "      <th>4</th>\n",
       "      <td>158</td>\n",
       "      <td>113</td>\n",
       "      <td>139</td>\n",
       "      <td>194</td>\n",
       "      <td>144</td>\n",
       "      <td>174</td>\n",
       "      <td>215</td>\n",
       "      <td>162</td>\n",
       "      <td>191</td>\n",
       "      <td>225</td>\n",
       "      <td>...</td>\n",
       "      <td>209</td>\n",
       "      <td>166</td>\n",
       "      <td>185</td>\n",
       "      <td>172</td>\n",
       "      <td>135</td>\n",
       "      <td>149</td>\n",
       "      <td>109</td>\n",
       "      <td>78</td>\n",
       "      <td>92</td>\n",
       "      <td>2</td>\n",
       "    </tr>\n",
       "  </tbody>\n",
       "</table>\n",
       "<p>5 rows × 2353 columns</p>\n",
       "</div>"
      ],
      "text/plain": [
       "   pixel0000  pixel0001  pixel0002  pixel0003  pixel0004  pixel0005  \\\n",
       "0        192        153        193        195        155        192   \n",
       "1         25         14         30         68         48         75   \n",
       "2        192        138        153        200        145        163   \n",
       "3         38         19         30         95         59         72   \n",
       "4        158        113        139        194        144        174   \n",
       "\n",
       "   pixel0006  pixel0007  pixel0008  pixel0009  ...  pixel2343  pixel2344  \\\n",
       "0        197        154        185        202  ...        173        124   \n",
       "1        123         93        126        158  ...         60         39   \n",
       "2        201        142        160        206  ...        167        129   \n",
       "3        143        103        119        171  ...         44         26   \n",
       "4        215        162        191        225  ...        209        166   \n",
       "\n",
       "   pixel2345  pixel2346  pixel2347  pixel2348  pixel2349  pixel2350  \\\n",
       "0        138        183        147        166        185        154   \n",
       "1         55         25         14         28         25         14   \n",
       "2        143        159        124        142        136        104   \n",
       "3         36         25         12         17         25         12   \n",
       "4        185        172        135        149        109         78   \n",
       "\n",
       "   pixel2351  label  \n",
       "0        177      2  \n",
       "1         27      2  \n",
       "2        117      2  \n",
       "3         15      2  \n",
       "4         92      2  \n",
       "\n",
       "[5 rows x 2353 columns]"
      ]
     },
     "execution_count": 4,
     "metadata": {},
     "output_type": "execute_result"
    }
   ],
   "source": [
    "import pandas as pd\n",
    "data = pd.read_csv('hmnist_28_28_RGB.csv')\n",
    "data.head()"
   ]
  },
  {
   "cell_type": "code",
   "execution_count": 5,
   "metadata": {},
   "outputs": [],
   "source": [
    "y = data['label']\n",
    "x = data.drop(columns = ['label'])"
   ]
  },
  {
   "cell_type": "code",
   "execution_count": 6,
   "metadata": {},
   "outputs": [
    {
     "data": {
      "text/html": [
       "<div>\n",
       "<style scoped>\n",
       "    .dataframe tbody tr th:only-of-type {\n",
       "        vertical-align: middle;\n",
       "    }\n",
       "\n",
       "    .dataframe tbody tr th {\n",
       "        vertical-align: top;\n",
       "    }\n",
       "\n",
       "    .dataframe thead th {\n",
       "        text-align: right;\n",
       "    }\n",
       "</style>\n",
       "<table border=\"1\" class=\"dataframe\">\n",
       "  <thead>\n",
       "    <tr style=\"text-align: right;\">\n",
       "      <th></th>\n",
       "      <th>lesion_id</th>\n",
       "      <th>image_id</th>\n",
       "      <th>dx</th>\n",
       "      <th>dx_type</th>\n",
       "      <th>age</th>\n",
       "      <th>sex</th>\n",
       "      <th>localization</th>\n",
       "    </tr>\n",
       "  </thead>\n",
       "  <tbody>\n",
       "    <tr>\n",
       "      <th>0</th>\n",
       "      <td>HAM_0000118</td>\n",
       "      <td>ISIC_0027419</td>\n",
       "      <td>bkl</td>\n",
       "      <td>histo</td>\n",
       "      <td>80.0</td>\n",
       "      <td>male</td>\n",
       "      <td>scalp</td>\n",
       "    </tr>\n",
       "    <tr>\n",
       "      <th>1</th>\n",
       "      <td>HAM_0000118</td>\n",
       "      <td>ISIC_0025030</td>\n",
       "      <td>bkl</td>\n",
       "      <td>histo</td>\n",
       "      <td>80.0</td>\n",
       "      <td>male</td>\n",
       "      <td>scalp</td>\n",
       "    </tr>\n",
       "    <tr>\n",
       "      <th>2</th>\n",
       "      <td>HAM_0002730</td>\n",
       "      <td>ISIC_0026769</td>\n",
       "      <td>bkl</td>\n",
       "      <td>histo</td>\n",
       "      <td>80.0</td>\n",
       "      <td>male</td>\n",
       "      <td>scalp</td>\n",
       "    </tr>\n",
       "    <tr>\n",
       "      <th>3</th>\n",
       "      <td>HAM_0002730</td>\n",
       "      <td>ISIC_0025661</td>\n",
       "      <td>bkl</td>\n",
       "      <td>histo</td>\n",
       "      <td>80.0</td>\n",
       "      <td>male</td>\n",
       "      <td>scalp</td>\n",
       "    </tr>\n",
       "    <tr>\n",
       "      <th>4</th>\n",
       "      <td>HAM_0001466</td>\n",
       "      <td>ISIC_0031633</td>\n",
       "      <td>bkl</td>\n",
       "      <td>histo</td>\n",
       "      <td>75.0</td>\n",
       "      <td>male</td>\n",
       "      <td>ear</td>\n",
       "    </tr>\n",
       "  </tbody>\n",
       "</table>\n",
       "</div>"
      ],
      "text/plain": [
       "     lesion_id      image_id   dx dx_type   age   sex localization\n",
       "0  HAM_0000118  ISIC_0027419  bkl   histo  80.0  male        scalp\n",
       "1  HAM_0000118  ISIC_0025030  bkl   histo  80.0  male        scalp\n",
       "2  HAM_0002730  ISIC_0026769  bkl   histo  80.0  male        scalp\n",
       "3  HAM_0002730  ISIC_0025661  bkl   histo  80.0  male        scalp\n",
       "4  HAM_0001466  ISIC_0031633  bkl   histo  75.0  male          ear"
      ]
     },
     "execution_count": 6,
     "metadata": {},
     "output_type": "execute_result"
    }
   ],
   "source": [
    "tabular_data = pd.read_csv('HAM10000_metadata.csv')\n",
    "tabular_data.head()"
   ]
  },
  {
   "cell_type": "code",
   "execution_count": 7,
   "metadata": {},
   "outputs": [],
   "source": [
    "classes = {4: ('nv', ' melanocytic nevi'), 6: ('mel', 'melanoma'), 2 :('bkl', 'benign keratosis-like lesions'), 1:('bcc' , ' basal cell carcinoma'), 5: ('vasc', ' pyogenic granulomas and hemorrhage'), 0: ('akiec', 'Actinic keratoses and intraepithelial carcinomae'),  3: ('df', 'dermatofibroma')}"
   ]
  },
  {
   "cell_type": "code",
   "execution_count": 8,
   "metadata": {},
   "outputs": [
    {
     "data": {
      "text/plain": [
       "Text(0.5, 1.0, 'Frequency Distribution of Classes')"
      ]
     },
     "execution_count": 8,
     "metadata": {},
     "output_type": "execute_result"
    },
    {
     "data": {
      "image/png": "[encoded data removed]",
      "text/plain": [
       "<Figure size 432x288 with 1 Axes>"
      ]
     },
     "metadata": {
      "needs_background": "light"
     },
     "output_type": "display_data"
    }
   ],
   "source": [
    "sns.countplot(x = 'dx', data = tabular_data)\n",
    "plt.xlabel('Disease', size=12)\n",
    "plt.ylabel('Frequency', size=12)\n",
    "plt.title('Frequency Distribution of Classes', size=16)"
   ]
  },
  {
   "cell_type": "code",
   "execution_count": 9,
   "metadata": {},
   "outputs": [
    {
     "data": {
      "text/plain": [
       "Text(0.5, 1.0, 'Gender of Patient')"
      ]
     },
     "execution_count": 9,
     "metadata": {},
     "output_type": "execute_result"
    },
    {
     "data": {
      "image/png": "[encoded data removed]",
      "text/plain": [
       "<Figure size 720x720 with 1 Axes>"
      ]
     },
     "metadata": {},
     "output_type": "display_data"
    }
   ],
   "source": [
    "# Distribution of disease over gender\n",
    "bar, ax = plt.subplots(figsize = (10,10))\n",
    "plt.pie(tabular_data['sex'].value_counts(), labels = tabular_data['sex'].value_counts().index, autopct=\"%.1f%%\")\n",
    "plt.title('Gender of Patient', size=16)"
   ]
  },
  {
   "cell_type": "code",
   "execution_count": 10,
   "metadata": {},
   "outputs": [
    {
     "data": {
      "text/plain": [
       "Text(0.5, 1.0, 'Histogram of Age of Patients')"
      ]
     },
     "execution_count": 10,
     "metadata": {},
     "output_type": "execute_result"
    },
    {
     "data": {
      "image/png": "[encoded data removed]",
      "text/plain": [
       "<Figure size 720x720 with 1 Axes>"
      ]
     },
     "metadata": {
      "needs_background": "light"
     },
     "output_type": "display_data"
    }
   ],
   "source": [
    "bar, ax = plt.subplots(figsize=(10,10))\n",
    "sns.histplot(tabular_data['age'])\n",
    "plt.title('Histogram of Age of Patients', size=16)"
   ]
  },
  {
   "cell_type": "code",
   "execution_count": 11,
   "metadata": {},
   "outputs": [
    {
     "data": {
      "text/plain": [
       "(array([ 0,  1,  2,  3,  4,  5,  6,  7,  8,  9, 10, 11, 12, 13, 14]),\n",
       " [Text(0, 0, 'back'),\n",
       "  Text(1, 0, 'lower extremity'),\n",
       "  Text(2, 0, 'trunk'),\n",
       "  Text(3, 0, 'upper extremity'),\n",
       "  Text(4, 0, 'abdomen'),\n",
       "  Text(5, 0, 'face'),\n",
       "  Text(6, 0, 'chest'),\n",
       "  Text(7, 0, 'foot'),\n",
       "  Text(8, 0, 'scalp'),\n",
       "  Text(9, 0, 'neck'),\n",
       "  Text(10, 0, 'unknown'),\n",
       "  Text(11, 0, 'hand'),\n",
       "  Text(12, 0, 'genital'),\n",
       "  Text(13, 0, 'ear'),\n",
       "  Text(14, 0, 'acral')])"
      ]
     },
     "execution_count": 11,
     "metadata": {},
     "output_type": "execute_result"
    },
    {
     "data": {
      "image/png": "[encoded data removed]",
      "text/plain": [
       "<Figure size 864x864 with 1 Axes>"
      ]
     },
     "metadata": {
      "needs_background": "light"
     },
     "output_type": "display_data"
    }
   ],
   "source": [
    "value = tabular_data[['localization', 'sex']].value_counts().to_frame()\n",
    "value.reset_index(level=[1,0 ], inplace=True)\n",
    "temp = value.rename(columns = {'localization':'location', 0: 'count'})\n",
    "\n",
    "bar, ax = plt.subplots(figsize = (12, 12))\n",
    "sns.barplot(x = 'location',  y='count', hue = 'sex', data = temp)\n",
    "plt.title('Location of disease over Gender', size = 16)\n",
    "plt.xlabel('Disease', size=12)\n",
    "plt.ylabel('Frequency/Count', size=12)\n",
    "plt.xticks(rotation = 90)"
   ]
  },
  {
   "cell_type": "code",
   "execution_count": 12,
   "metadata": {},
   "outputs": [],
   "source": [
    "oversample = RandomOverSampler()\n",
    "x,y  = oversample.fit_resample(x,y)"
   ]
  },
  {
   "cell_type": "code",
   "execution_count": 13,
   "metadata": {},
   "outputs": [
    {
     "name": "stdout",
     "output_type": "stream",
     "text": [
      "Shape of X : (46935, 28, 28, 3)\n"
     ]
    }
   ],
   "source": [
    "x = np.array(x).reshape(-1,28,28,3)\n",
    "print('Shape of X :',x.shape)"
   ]
  },
  {
   "cell_type": "code",
   "execution_count": 14,
   "metadata": {},
   "outputs": [],
   "source": [
    "x = (x-np.mean(x))/np.std(x)\n",
    "X_train, X_test, Y_train, Y_test = train_test_split(x,y, test_size=0.2, random_state=1)"
   ]
  },
  {
   "cell_type": "code",
   "execution_count": 15,
   "metadata": {},
   "outputs": [
    {
     "name": "stdout",
     "output_type": "stream",
     "text": [
      "Model: \"sequential\"\n",
      "_________________________________________________________________\n",
      " Layer (type)                Output Shape              Param #   \n",
      "=================================================================\n",
      " conv2d (Conv2D)             (None, 28, 28, 16)        448       \n",
      "                                                                 \n",
      " conv2d_1 (Conv2D)           (None, 26, 26, 32)        4640      \n",
      "                                                                 \n",
      " max_pooling2d (MaxPooling2D  (None, 13, 13, 32)       0         \n",
      " )                                                               \n",
      "                                                                 \n",
      " conv2d_2 (Conv2D)           (None, 13, 13, 32)        9248      \n",
      "                                                                 \n",
      " conv2d_3 (Conv2D)           (None, 11, 11, 64)        18496     \n",
      "                                                                 \n",
      " max_pooling2d_1 (MaxPooling  (None, 6, 6, 64)         0         \n",
      " 2D)                                                             \n",
      "                                                                 \n",
      " flatten (Flatten)           (None, 2304)              0         \n",
      "                                                                 \n",
      " dense (Dense)               (None, 64)                147520    \n",
      "                                                                 \n",
      " dense_1 (Dense)             (None, 32)                2080      \n",
      "                                                                 \n",
      " dense_2 (Dense)             (None, 7)                 231       \n",
      "                                                                 \n",
      "=================================================================\n",
      "Total params: 182,663\n",
      "Trainable params: 182,663\n",
      "Non-trainable params: 0\n",
      "_________________________________________________________________\n"
     ]
    }
   ],
   "source": [
    "model = Sequential()\n",
    "model.add(Conv2D(16, kernel_size = (3,3), input_shape = (28, 28, 3), activation = 'relu', padding = 'same'))\n",
    "model.add(Conv2D(32, kernel_size = (3,3), activation = 'relu'))\n",
    "model.add(MaxPool2D(pool_size = (2,2)))\n",
    "model.add(Conv2D(32, kernel_size = (3,3), activation = 'relu', padding = 'same'))\n",
    "model.add(Conv2D(64, kernel_size = (3,3), activation = 'relu'))\n",
    "model.add(MaxPool2D(pool_size = (2,2), padding = 'same'))\n",
    "model.add(Flatten())\n",
    "model.add(Dense(64, activation='relu'))\n",
    "model.add(Dense(32, activation='relu'))\n",
    "model.add(Dense(7, activation='softmax'))\n",
    "model.summary()"
   ]
  },
  {
   "cell_type": "code",
   "execution_count": 16,
   "metadata": {},
   "outputs": [],
   "source": [
    "callback = tf.keras.callbacks.ModelCheckpoint(filepath='best_model.h5',\n",
    "                                                  monitor='val_acc', mode='max',\n",
    "                                                 verbose=1)"
   ]
  },
  {
   "cell_type": "code",
   "execution_count": 17,
   "metadata": {},
   "outputs": [
    {
     "name": "stdout",
     "output_type": "stream",
     "text": [
      "Epoch 1/20\n",
      "235/235 [==============================] - ETA: 0s - loss: 1.2480 - accuracy: 0.5082\n",
      "Epoch 1: saving model to best_model.h5\n",
      "235/235 [==============================] - 51s 192ms/step - loss: 1.2480 - accuracy: 0.5082 - val_loss: 0.9060 - val_accuracy: 0.6559\n",
      "Epoch 2/20\n",
      "235/235 [==============================] - ETA: 0s - loss: 0.6727 - accuracy: 0.7495\n",
      "Epoch 2: saving model to best_model.h5\n",
      "235/235 [==============================] - 36s 152ms/step - loss: 0.6727 - accuracy: 0.7495 - val_loss: 0.5164 - val_accuracy: 0.8068\n",
      "Epoch 3/20\n",
      "235/235 [==============================] - ETA: 0s - loss: 0.4154 - accuracy: 0.8515\n",
      "Epoch 3: saving model to best_model.h5\n",
      "235/235 [==============================] - 32s 135ms/step - loss: 0.4154 - accuracy: 0.8515 - val_loss: 0.4222 - val_accuracy: 0.8403\n",
      "Epoch 4/20\n",
      "235/235 [==============================] - ETA: 0s - loss: 0.2977 - accuracy: 0.8934\n",
      "Epoch 4: saving model to best_model.h5\n",
      "235/235 [==============================] - 33s 139ms/step - loss: 0.2977 - accuracy: 0.8934 - val_loss: 0.2967 - val_accuracy: 0.8988\n",
      "Epoch 5/20\n",
      "235/235 [==============================] - ETA: 0s - loss: 0.2194 - accuracy: 0.9212\n",
      "Epoch 5: saving model to best_model.h5\n",
      "235/235 [==============================] - 40s 170ms/step - loss: 0.2194 - accuracy: 0.9212 - val_loss: 0.2664 - val_accuracy: 0.9029\n",
      "Epoch 6/20\n",
      "235/235 [==============================] - ETA: 0s - loss: 0.1599 - accuracy: 0.9443\n",
      "Epoch 6: saving model to best_model.h5\n",
      "235/235 [==============================] - 48s 205ms/step - loss: 0.1599 - accuracy: 0.9443 - val_loss: 0.2034 - val_accuracy: 0.9328\n",
      "Epoch 7/20\n",
      "235/235 [==============================] - ETA: 0s - loss: 0.1312 - accuracy: 0.9536\n",
      "Epoch 7: saving model to best_model.h5\n",
      "235/235 [==============================] - 43s 182ms/step - loss: 0.1312 - accuracy: 0.9536 - val_loss: 0.1928 - val_accuracy: 0.9395\n",
      "Epoch 8/20\n",
      "235/235 [==============================] - ETA: 0s - loss: 0.1054 - accuracy: 0.9631\n",
      "Epoch 8: saving model to best_model.h5\n",
      "235/235 [==============================] - 42s 179ms/step - loss: 0.1054 - accuracy: 0.9631 - val_loss: 0.1517 - val_accuracy: 0.9525\n",
      "Epoch 9/20\n",
      "235/235 [==============================] - ETA: 0s - loss: 0.1163 - accuracy: 0.9585\n",
      "Epoch 9: saving model to best_model.h5\n",
      "235/235 [==============================] - 39s 165ms/step - loss: 0.1163 - accuracy: 0.9585 - val_loss: 0.1746 - val_accuracy: 0.9434\n",
      "Epoch 10/20\n",
      "235/235 [==============================] - ETA: 0s - loss: 0.0678 - accuracy: 0.9770\n",
      "Epoch 10: saving model to best_model.h5\n",
      "235/235 [==============================] - 43s 184ms/step - loss: 0.0678 - accuracy: 0.9770 - val_loss: 0.1441 - val_accuracy: 0.9567\n",
      "Epoch 11/20\n",
      "235/235 [==============================] - ETA: 0s - loss: 0.0598 - accuracy: 0.9795\n",
      "Epoch 11: saving model to best_model.h5\n",
      "235/235 [==============================] - 47s 199ms/step - loss: 0.0598 - accuracy: 0.9795 - val_loss: 0.2700 - val_accuracy: 0.9238\n",
      "Epoch 12/20\n",
      "235/235 [==============================] - ETA: 0s - loss: 0.0628 - accuracy: 0.9789\n",
      "Epoch 12: saving model to best_model.h5\n",
      "235/235 [==============================] - 46s 196ms/step - loss: 0.0628 - accuracy: 0.9789 - val_loss: 0.1698 - val_accuracy: 0.9498\n",
      "Epoch 13/20\n",
      "235/235 [==============================] - ETA: 0s - loss: 0.0469 - accuracy: 0.9832\n",
      "Epoch 13: saving model to best_model.h5\n",
      "235/235 [==============================] - 42s 180ms/step - loss: 0.0469 - accuracy: 0.9832 - val_loss: 0.1519 - val_accuracy: 0.9587\n",
      "Epoch 14/20\n",
      "235/235 [==============================] - ETA: 0s - loss: 0.0599 - accuracy: 0.9786\n",
      "Epoch 14: saving model to best_model.h5\n",
      "235/235 [==============================] - 39s 164ms/step - loss: 0.0599 - accuracy: 0.9786 - val_loss: 0.1543 - val_accuracy: 0.9509\n",
      "Epoch 15/20\n",
      "235/235 [==============================] - ETA: 0s - loss: 0.0265 - accuracy: 0.9911\n",
      "Epoch 15: saving model to best_model.h5\n",
      "235/235 [==============================] - 38s 164ms/step - loss: 0.0265 - accuracy: 0.9911 - val_loss: 0.1551 - val_accuracy: 0.9680\n",
      "Epoch 16/20\n",
      "235/235 [==============================] - ETA: 0s - loss: 0.0441 - accuracy: 0.9847\n",
      "Epoch 16: saving model to best_model.h5\n",
      "235/235 [==============================] - 39s 165ms/step - loss: 0.0441 - accuracy: 0.9847 - val_loss: 0.1389 - val_accuracy: 0.9586\n",
      "Epoch 17/20\n",
      "235/235 [==============================] - ETA: 0s - loss: 0.0593 - accuracy: 0.9802\n",
      "Epoch 17: saving model to best_model.h5\n",
      "235/235 [==============================] - 34s 145ms/step - loss: 0.0593 - accuracy: 0.9802 - val_loss: 0.1755 - val_accuracy: 0.9631\n",
      "Epoch 18/20\n",
      "235/235 [==============================] - ETA: 0s - loss: 0.0189 - accuracy: 0.9941\n",
      "Epoch 18: saving model to best_model.h5\n",
      "235/235 [==============================] - 33s 142ms/step - loss: 0.0189 - accuracy: 0.9941 - val_loss: 0.1389 - val_accuracy: 0.9674\n",
      "Epoch 19/20\n",
      "235/235 [==============================] - ETA: 0s - loss: 0.0401 - accuracy: 0.9868\n",
      "Epoch 19: saving model to best_model.h5\n",
      "235/235 [==============================] - 44s 187ms/step - loss: 0.0401 - accuracy: 0.9868 - val_loss: 0.1368 - val_accuracy: 0.9687\n",
      "Epoch 20/20\n",
      "235/235 [==============================] - ETA: 0s - loss: 0.0126 - accuracy: 0.9963\n",
      "Epoch 20: saving model to best_model.h5\n",
      "235/235 [==============================] - 38s 160ms/step - loss: 0.0126 - accuracy: 0.9963 - val_loss: 0.1156 - val_accuracy: 0.9776\n"
     ]
    }
   ],
   "source": [
    "model.compile(loss = 'sparse_categorical_crossentropy',\n",
    "             optimizer = 'adam',\n",
    "              metrics = ['accuracy'])\n",
    "history = model.fit(X_train,\n",
    "                    Y_train,\n",
    "                    validation_split=0.2,\n",
    "                    batch_size = 128,\n",
    "                    epochs = 20,\n",
    "                    callbacks=[callback])"
   ]
  }
 ],
 "metadata": {
  "kernelspec": {
   "display_name": "Python 3.10.5 64-bit",
   "language": "python",
   "name": "python3"
  },
  "language_info": {
   "codemirror_mode": {
    "name": "ipython",
    "version": 3
   },
   "file_extension": ".py",
   "mimetype": "text/x-python",
   "name": "python",
   "nbconvert_exporter": "python",
   "pygments_lexer": "ipython3",
   "version": "3.10.5"
  },
  "orig_nbformat": 4,
  "vscode": {
   "interpreter": {
    "hash": "e2611f44f806f6d4bdec6164674388ade8a86ad4e81af7ef1563613438bedb91"
   }
  }
 },
 "nbformat": 4,
 "nbformat_minor": 2
}
